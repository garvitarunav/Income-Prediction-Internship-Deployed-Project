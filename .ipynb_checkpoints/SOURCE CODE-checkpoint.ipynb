{
 "cells": [
  {
   "cell_type": "markdown",
   "id": "1bea134b",
   "metadata": {},
   "source": [
    "# IMPORTING FOLDERS AND DIRECTORIES "
   ]
  },
  {
   "cell_type": "code",
   "execution_count": 1,
   "id": "2e939f5c",
   "metadata": {},
   "outputs": [],
   "source": [
    "import pandas as pd\n",
    "import numpy as np\n",
    "import seaborn as sns\n",
    "import matplotlib.pyplot as plt\n",
    "from pandas.plotting import scatter_matrix\n",
    "from sklearn.model_selection import train_test_split\n",
    "from sklearn.model_selection import cross_val_score\n",
    "from sklearn.linear_model import LinearRegression\n",
    "from sklearn.linear_model import LogisticRegression\n",
    "from sklearn.tree import DecisionTreeClassifier\n",
    "from sklearn.tree import DecisionTreeRegressor\n",
    "from sklearn.ensemble import RandomForestClassifier\n",
    "from sklearn.ensemble import RandomForestRegressor\n",
    "from sklearn.svm import SVC\n",
    "from sklearn.neighbors import KNeighborsClassifier\n",
    "from sklearn.naive_bayes import GaussianNB\n",
    "from sklearn.metrics import mean_absolute_error\n",
    "from sklearn.metrics import mean_squared_error"
   ]
  },
  {
   "cell_type": "code",
   "execution_count": 2,
   "id": "1c4caa51",
   "metadata": {},
   "outputs": [],
   "source": [
    "data = pd.read_csv(\"Train.csv\")\n",
    "data = data.drop(['ID'], axis = 1)"
   ]
  },
  {
   "cell_type": "code",
   "execution_count": 3,
   "id": "9e79cf38",
   "metadata": {},
   "outputs": [],
   "source": [
    "data = data.drop([\"class\",\"education_institute\",\"unemployment_reason\",\"is_labor_union\",\"occupation_code_main\",\"under_18_family\",\"veterans_admin_questionnaire\",\"residence_1_year_ago\",\"old_residence_reg\",\"old_residence_state\",\"migration_prev_sunbelt\"], axis = 1)"
   ]
  },
  {
   "cell_type": "code",
   "execution_count": 4,
   "id": "ae7f7ead",
   "metadata": {},
   "outputs": [
    {
     "data": {
      "text/plain": [
       "array([0, 1], dtype=int64)"
      ]
     },
     "execution_count": 4,
     "metadata": {},
     "output_type": "execute_result"
    }
   ],
   "source": [
    "b = ' Female'\n",
    "data['gender'] = data['gender'].apply(lambda x : 1 if x != b else 0)\n",
    "data[\"gender\"].unique()"
   ]
  },
  {
   "cell_type": "code",
   "execution_count": 5,
   "id": "ead6bde2",
   "metadata": {},
   "outputs": [],
   "source": [
    "data[\"income_above_limit\"] = data[\"income_above_limit\"].apply(lambda x:1 if x == \"Above limit\" else 0)"
   ]
  },
  {
   "cell_type": "markdown",
   "id": "2e37cba9",
   "metadata": {},
   "source": [
    "#### GETTING THE CORRELATION DATA WITH ALL THE FEATURES WITH RESPECT TO INCOME ABOVE LIMIT COLUMN"
   ]
  },
  {
   "cell_type": "code",
   "execution_count": 6,
   "id": "b8bd0e1c",
   "metadata": {
    "scrolled": false
   },
   "outputs": [
    {
     "name": "stderr",
     "output_type": "stream",
     "text": [
      "C:\\Users\\HP\\AppData\\Local\\Temp\\ipykernel_10284\\4151716024.py:1: FutureWarning: The default value of numeric_only in DataFrame.corr is deprecated. In a future version, it will default to False. Select only valid columns or specify the value of numeric_only to silence this warning.\n",
      "  corr_matrix = data.corr()\n"
     ]
    },
    {
     "data": {
      "text/plain": [
       "income_above_limit       1.000000\n",
       "working_week_per_year    0.262632\n",
       "gains                    0.240253\n",
       "total_employed           0.224914\n",
       "industry_code            0.195324\n",
       "stocks_status            0.180032\n",
       "gender                   0.156881\n",
       "losses                   0.152156\n",
       "vet_benefit              0.140578\n",
       "age                      0.136103\n",
       "employment_stat          0.041225\n",
       "wage_per_hour            0.023459\n",
       "mig_year                 0.017267\n",
       "occupation_code          0.014474\n",
       "importance_of_record     0.013327\n",
       "Name: income_above_limit, dtype: float64"
      ]
     },
     "execution_count": 6,
     "metadata": {},
     "output_type": "execute_result"
    }
   ],
   "source": [
    "corr_matrix = data.corr()\n",
    "corr_matrix[\"income_above_limit\"].sort_values(ascending = False)"
   ]
  },
  {
   "cell_type": "markdown",
   "id": "150a0f5e",
   "metadata": {},
   "source": [
    "#### TO SIDE OUT THE OUTLIERS, WE ARE SETTING A UPPER AND LOWER BOUND USING THE QUANTILE METHOD WHICH EVENTUALLY INCREASES THE EFFICIENCY OF THE MODEL's PREDICTIONS"
   ]
  },
  {
   "cell_type": "code",
   "execution_count": 7,
   "id": "0b9b001c",
   "metadata": {},
   "outputs": [
    {
     "name": "stdout",
     "output_type": "stream",
     "text": [
      "WORKING WEEK PER YEAR : Upper limit = 52.0 and Lower limit = 0.0\n"
     ]
    }
   ],
   "source": [
    "upper_limit = data[\"working_week_per_year\"].quantile(0.99)\n",
    "lower_limit = data[\"working_week_per_year\"].quantile(0.01)\n",
    "print(f\"WORKING WEEK PER YEAR : Upper limit = {upper_limit} and Lower limit = {lower_limit}\")"
   ]
  },
  {
   "cell_type": "code",
   "execution_count": 8,
   "id": "cab1ffdc",
   "metadata": {},
   "outputs": [
    {
     "name": "stdout",
     "output_type": "stream",
     "text": [
      "GAINS : Upper limit = 8614.0 and Lower limit = 0.0\n"
     ]
    }
   ],
   "source": [
    "upper_limit = data[\"gains\"].quantile(0.99)\n",
    "lower_limit = data[\"gains\"].quantile(0.01)\n",
    "print(f\"GAINS : Upper limit = {upper_limit} and Lower limit = {lower_limit}\")"
   ]
  },
  {
   "cell_type": "code",
   "execution_count": 9,
   "id": "b5fcc9b1",
   "metadata": {},
   "outputs": [
    {
     "name": "stdout",
     "output_type": "stream",
     "text": [
      "TOTAL_EMPLOYED : Upper limit = 6.0 and Lower limit = 0.0\n"
     ]
    }
   ],
   "source": [
    "upper_limit = data[\"total_employed\"].quantile(0.99)\n",
    "lower_limit = data[\"total_employed\"].quantile(0.01)\n",
    "print(f\"TOTAL_EMPLOYED : Upper limit = {upper_limit} and Lower limit = {lower_limit}\")"
   ]
  },
  {
   "cell_type": "code",
   "execution_count": 10,
   "id": "2bd4bbb9",
   "metadata": {},
   "outputs": [
    {
     "name": "stdout",
     "output_type": "stream",
     "text": [
      "INDUSTRY CODE : Upper limit = 49.0 and Lower limit = 0.0\n"
     ]
    }
   ],
   "source": [
    "upper_limit = data[\"industry_code\"].quantile(0.99)\n",
    "lower_limit = data[\"industry_code\"].quantile(0.01)\n",
    "print(f\"INDUSTRY CODE : Upper limit = {upper_limit} and Lower limit = {lower_limit}\")"
   ]
  },
  {
   "cell_type": "code",
   "execution_count": 11,
   "id": "4fe7b832",
   "metadata": {},
   "outputs": [
    {
     "name": "stdout",
     "output_type": "stream",
     "text": [
      "STOCKS STATUS : Upper limit = 4500.0 and Lower limit = 0.0\n"
     ]
    }
   ],
   "source": [
    "upper_limit = data[\"stocks_status\"].quantile(0.99)\n",
    "lower_limit = data[\"stocks_status\"].quantile(0.01)\n",
    "print(f\"STOCKS STATUS : Upper limit = {upper_limit} and Lower limit = {lower_limit}\")"
   ]
  },
  {
   "cell_type": "markdown",
   "id": "861279e1",
   "metadata": {},
   "source": [
    "#### GETTING THE DATA INTO RESPECTIVE COLUMNS SO THAT OUTLIERS WOULD BE ELIMINATED AND WE COULD GET BEST DATA SET"
   ]
  },
  {
   "cell_type": "code",
   "execution_count": 12,
   "id": "eebc50c4",
   "metadata": {},
   "outputs": [],
   "source": [
    "new_df = data[(data[\"working_week_per_year\"] <= 52.0) & (data[\"working_week_per_year\"] >= 0.0)]"
   ]
  },
  {
   "cell_type": "code",
   "execution_count": 13,
   "id": "f7bc10d6",
   "metadata": {},
   "outputs": [],
   "source": [
    "new_df = data[(data[\"gains\"] <= 8614.0) & (data[\"gains\"] >= 0.0)]"
   ]
  },
  {
   "cell_type": "code",
   "execution_count": 14,
   "id": "67edb28d",
   "metadata": {},
   "outputs": [],
   "source": [
    "new_df = data[(data[\"total_employed\"] <= 6.0) & (data[\"total_employed\"] >= 0.0)]"
   ]
  },
  {
   "cell_type": "code",
   "execution_count": 15,
   "id": "1e80a225",
   "metadata": {},
   "outputs": [],
   "source": [
    "new_df = data[(data[\"industry_code\"] <= 49.0) & (data[\"industry_code\"] >= 0.0)]"
   ]
  },
  {
   "cell_type": "code",
   "execution_count": 16,
   "id": "2ce3f422",
   "metadata": {},
   "outputs": [],
   "source": [
    "new_df = data[(data[\"stocks_status\"] <= 4500.0) & (data[\"stocks_status\"] >= 0.0)]"
   ]
  },
  {
   "cell_type": "code",
   "execution_count": 17,
   "id": "20dfb278",
   "metadata": {},
   "outputs": [
    {
     "data": {
      "text/html": [
       "<div>\n",
       "<style scoped>\n",
       "    .dataframe tbody tr th:only-of-type {\n",
       "        vertical-align: middle;\n",
       "    }\n",
       "\n",
       "    .dataframe tbody tr th {\n",
       "        vertical-align: top;\n",
       "    }\n",
       "\n",
       "    .dataframe thead th {\n",
       "        text-align: right;\n",
       "    }\n",
       "</style>\n",
       "<table border=\"1\" class=\"dataframe\">\n",
       "  <thead>\n",
       "    <tr style=\"text-align: right;\">\n",
       "      <th></th>\n",
       "      <th>age</th>\n",
       "      <th>gender</th>\n",
       "      <th>employment_stat</th>\n",
       "      <th>wage_per_hour</th>\n",
       "      <th>working_week_per_year</th>\n",
       "      <th>industry_code</th>\n",
       "      <th>occupation_code</th>\n",
       "      <th>total_employed</th>\n",
       "      <th>vet_benefit</th>\n",
       "      <th>gains</th>\n",
       "      <th>losses</th>\n",
       "      <th>stocks_status</th>\n",
       "      <th>mig_year</th>\n",
       "      <th>importance_of_record</th>\n",
       "      <th>income_above_limit</th>\n",
       "    </tr>\n",
       "  </thead>\n",
       "  <tbody>\n",
       "    <tr>\n",
       "      <th>count</th>\n",
       "      <td>209499.000000</td>\n",
       "      <td>209499.000000</td>\n",
       "      <td>209499.000000</td>\n",
       "      <td>209499.000000</td>\n",
       "      <td>209499.000000</td>\n",
       "      <td>209499.000000</td>\n",
       "      <td>209499.000000</td>\n",
       "      <td>209499.000000</td>\n",
       "      <td>209499.000000</td>\n",
       "      <td>209499.000000</td>\n",
       "      <td>209499.000000</td>\n",
       "      <td>209499.000000</td>\n",
       "      <td>209499.000000</td>\n",
       "      <td>209499.000000</td>\n",
       "      <td>209499.000000</td>\n",
       "    </tr>\n",
       "    <tr>\n",
       "      <th>mean</th>\n",
       "      <td>34.518728</td>\n",
       "      <td>0.480742</td>\n",
       "      <td>0.176760</td>\n",
       "      <td>55.433487</td>\n",
       "      <td>23.158850</td>\n",
       "      <td>15.332398</td>\n",
       "      <td>11.321734</td>\n",
       "      <td>1.956067</td>\n",
       "      <td>1.515854</td>\n",
       "      <td>435.926887</td>\n",
       "      <td>36.881737</td>\n",
       "      <td>194.533420</td>\n",
       "      <td>94.499745</td>\n",
       "      <td>1740.888324</td>\n",
       "      <td>0.062043</td>\n",
       "    </tr>\n",
       "    <tr>\n",
       "      <th>std</th>\n",
       "      <td>22.306738</td>\n",
       "      <td>0.499630</td>\n",
       "      <td>0.555562</td>\n",
       "      <td>276.757327</td>\n",
       "      <td>24.397963</td>\n",
       "      <td>18.049655</td>\n",
       "      <td>14.460839</td>\n",
       "      <td>2.365154</td>\n",
       "      <td>0.850853</td>\n",
       "      <td>4696.359500</td>\n",
       "      <td>270.383302</td>\n",
       "      <td>1956.375501</td>\n",
       "      <td>0.500001</td>\n",
       "      <td>995.559557</td>\n",
       "      <td>0.241235</td>\n",
       "    </tr>\n",
       "    <tr>\n",
       "      <th>min</th>\n",
       "      <td>0.000000</td>\n",
       "      <td>0.000000</td>\n",
       "      <td>0.000000</td>\n",
       "      <td>0.000000</td>\n",
       "      <td>0.000000</td>\n",
       "      <td>0.000000</td>\n",
       "      <td>0.000000</td>\n",
       "      <td>0.000000</td>\n",
       "      <td>0.000000</td>\n",
       "      <td>0.000000</td>\n",
       "      <td>0.000000</td>\n",
       "      <td>0.000000</td>\n",
       "      <td>94.000000</td>\n",
       "      <td>37.870000</td>\n",
       "      <td>0.000000</td>\n",
       "    </tr>\n",
       "    <tr>\n",
       "      <th>25%</th>\n",
       "      <td>15.000000</td>\n",
       "      <td>0.000000</td>\n",
       "      <td>0.000000</td>\n",
       "      <td>0.000000</td>\n",
       "      <td>0.000000</td>\n",
       "      <td>0.000000</td>\n",
       "      <td>0.000000</td>\n",
       "      <td>0.000000</td>\n",
       "      <td>2.000000</td>\n",
       "      <td>0.000000</td>\n",
       "      <td>0.000000</td>\n",
       "      <td>0.000000</td>\n",
       "      <td>94.000000</td>\n",
       "      <td>1061.290000</td>\n",
       "      <td>0.000000</td>\n",
       "    </tr>\n",
       "    <tr>\n",
       "      <th>50%</th>\n",
       "      <td>33.000000</td>\n",
       "      <td>0.000000</td>\n",
       "      <td>0.000000</td>\n",
       "      <td>0.000000</td>\n",
       "      <td>8.000000</td>\n",
       "      <td>0.000000</td>\n",
       "      <td>0.000000</td>\n",
       "      <td>1.000000</td>\n",
       "      <td>2.000000</td>\n",
       "      <td>0.000000</td>\n",
       "      <td>0.000000</td>\n",
       "      <td>0.000000</td>\n",
       "      <td>94.000000</td>\n",
       "      <td>1617.040000</td>\n",
       "      <td>0.000000</td>\n",
       "    </tr>\n",
       "    <tr>\n",
       "      <th>75%</th>\n",
       "      <td>50.000000</td>\n",
       "      <td>1.000000</td>\n",
       "      <td>0.000000</td>\n",
       "      <td>0.000000</td>\n",
       "      <td>52.000000</td>\n",
       "      <td>33.000000</td>\n",
       "      <td>26.000000</td>\n",
       "      <td>4.000000</td>\n",
       "      <td>2.000000</td>\n",
       "      <td>0.000000</td>\n",
       "      <td>0.000000</td>\n",
       "      <td>0.000000</td>\n",
       "      <td>95.000000</td>\n",
       "      <td>2185.480000</td>\n",
       "      <td>0.000000</td>\n",
       "    </tr>\n",
       "    <tr>\n",
       "      <th>max</th>\n",
       "      <td>90.000000</td>\n",
       "      <td>1.000000</td>\n",
       "      <td>2.000000</td>\n",
       "      <td>9999.000000</td>\n",
       "      <td>52.000000</td>\n",
       "      <td>51.000000</td>\n",
       "      <td>46.000000</td>\n",
       "      <td>6.000000</td>\n",
       "      <td>2.000000</td>\n",
       "      <td>99999.000000</td>\n",
       "      <td>4608.000000</td>\n",
       "      <td>99999.000000</td>\n",
       "      <td>95.000000</td>\n",
       "      <td>18656.300000</td>\n",
       "      <td>1.000000</td>\n",
       "    </tr>\n",
       "  </tbody>\n",
       "</table>\n",
       "</div>"
      ],
      "text/plain": [
       "                 age         gender  employment_stat  wage_per_hour  \\\n",
       "count  209499.000000  209499.000000    209499.000000  209499.000000   \n",
       "mean       34.518728       0.480742         0.176760      55.433487   \n",
       "std        22.306738       0.499630         0.555562     276.757327   \n",
       "min         0.000000       0.000000         0.000000       0.000000   \n",
       "25%        15.000000       0.000000         0.000000       0.000000   \n",
       "50%        33.000000       0.000000         0.000000       0.000000   \n",
       "75%        50.000000       1.000000         0.000000       0.000000   \n",
       "max        90.000000       1.000000         2.000000    9999.000000   \n",
       "\n",
       "       working_week_per_year  industry_code  occupation_code  total_employed  \\\n",
       "count          209499.000000  209499.000000    209499.000000   209499.000000   \n",
       "mean               23.158850      15.332398        11.321734        1.956067   \n",
       "std                24.397963      18.049655        14.460839        2.365154   \n",
       "min                 0.000000       0.000000         0.000000        0.000000   \n",
       "25%                 0.000000       0.000000         0.000000        0.000000   \n",
       "50%                 8.000000       0.000000         0.000000        1.000000   \n",
       "75%                52.000000      33.000000        26.000000        4.000000   \n",
       "max                52.000000      51.000000        46.000000        6.000000   \n",
       "\n",
       "         vet_benefit          gains         losses  stocks_status  \\\n",
       "count  209499.000000  209499.000000  209499.000000  209499.000000   \n",
       "mean        1.515854     435.926887      36.881737     194.533420   \n",
       "std         0.850853    4696.359500     270.383302    1956.375501   \n",
       "min         0.000000       0.000000       0.000000       0.000000   \n",
       "25%         2.000000       0.000000       0.000000       0.000000   \n",
       "50%         2.000000       0.000000       0.000000       0.000000   \n",
       "75%         2.000000       0.000000       0.000000       0.000000   \n",
       "max         2.000000   99999.000000    4608.000000   99999.000000   \n",
       "\n",
       "            mig_year  importance_of_record  income_above_limit  \n",
       "count  209499.000000         209499.000000       209499.000000  \n",
       "mean       94.499745           1740.888324            0.062043  \n",
       "std         0.500001            995.559557            0.241235  \n",
       "min        94.000000             37.870000            0.000000  \n",
       "25%        94.000000           1061.290000            0.000000  \n",
       "50%        94.000000           1617.040000            0.000000  \n",
       "75%        95.000000           2185.480000            0.000000  \n",
       "max        95.000000          18656.300000            1.000000  "
      ]
     },
     "execution_count": 17,
     "metadata": {},
     "output_type": "execute_result"
    }
   ],
   "source": [
    "data.describe()"
   ]
  },
  {
   "cell_type": "markdown",
   "id": "39ccb3e7",
   "metadata": {},
   "source": [
    "#### CREATING NEW FEATURES FROM THE EXISTING FEATURES FOR INCREASING THE NUMBER OF CORRELATED FEATURES WITH INCOME ABOVE LIMIT COLUMN"
   ]
  },
  {
   "cell_type": "code",
   "execution_count": 18,
   "id": "276d2dc5",
   "metadata": {},
   "outputs": [
    {
     "data": {
      "text/html": [
       "<div>\n",
       "<style scoped>\n",
       "    .dataframe tbody tr th:only-of-type {\n",
       "        vertical-align: middle;\n",
       "    }\n",
       "\n",
       "    .dataframe tbody tr th {\n",
       "        vertical-align: top;\n",
       "    }\n",
       "\n",
       "    .dataframe thead th {\n",
       "        text-align: right;\n",
       "    }\n",
       "</style>\n",
       "<table border=\"1\" class=\"dataframe\">\n",
       "  <thead>\n",
       "    <tr style=\"text-align: right;\">\n",
       "      <th></th>\n",
       "      <th>wwpy+te</th>\n",
       "      <th>income_above_limit</th>\n",
       "    </tr>\n",
       "  </thead>\n",
       "  <tbody>\n",
       "    <tr>\n",
       "      <th>wwpy+te</th>\n",
       "      <td>1.000000</td>\n",
       "      <td>0.265402</td>\n",
       "    </tr>\n",
       "    <tr>\n",
       "      <th>income_above_limit</th>\n",
       "      <td>0.265402</td>\n",
       "      <td>1.000000</td>\n",
       "    </tr>\n",
       "  </tbody>\n",
       "</table>\n",
       "</div>"
      ],
      "text/plain": [
       "                     wwpy+te  income_above_limit\n",
       "wwpy+te             1.000000            0.265402\n",
       "income_above_limit  0.265402            1.000000"
      ]
     },
     "execution_count": 18,
     "metadata": {},
     "output_type": "execute_result"
    }
   ],
   "source": [
    "target = new_df[\"income_above_limit\"]\n",
    "new1 = pd.DataFrame(new_df[\"working_week_per_year\"]+new_df[\"total_employed\"], columns = ['wwpy+te'])\n",
    "df1 = pd.concat([new1,target], axis = 1)\n",
    "corr_matrix = df1.corr()\n",
    "corr_matrix"
   ]
  },
  {
   "cell_type": "code",
   "execution_count": 19,
   "id": "e0127709",
   "metadata": {},
   "outputs": [
    {
     "data": {
      "text/html": [
       "<div>\n",
       "<style scoped>\n",
       "    .dataframe tbody tr th:only-of-type {\n",
       "        vertical-align: middle;\n",
       "    }\n",
       "\n",
       "    .dataframe tbody tr th {\n",
       "        vertical-align: top;\n",
       "    }\n",
       "\n",
       "    .dataframe thead th {\n",
       "        text-align: right;\n",
       "    }\n",
       "</style>\n",
       "<table border=\"1\" class=\"dataframe\">\n",
       "  <thead>\n",
       "    <tr style=\"text-align: right;\">\n",
       "      <th></th>\n",
       "      <th>wwpy-oc</th>\n",
       "      <th>income_above_limit</th>\n",
       "    </tr>\n",
       "  </thead>\n",
       "  <tbody>\n",
       "    <tr>\n",
       "      <th>wwpy-oc</th>\n",
       "      <td>1.00000</td>\n",
       "      <td>0.33346</td>\n",
       "    </tr>\n",
       "    <tr>\n",
       "      <th>income_above_limit</th>\n",
       "      <td>0.33346</td>\n",
       "      <td>1.00000</td>\n",
       "    </tr>\n",
       "  </tbody>\n",
       "</table>\n",
       "</div>"
      ],
      "text/plain": [
       "                    wwpy-oc  income_above_limit\n",
       "wwpy-oc             1.00000             0.33346\n",
       "income_above_limit  0.33346             1.00000"
      ]
     },
     "execution_count": 19,
     "metadata": {},
     "output_type": "execute_result"
    }
   ],
   "source": [
    "target = new_df[\"income_above_limit\"]\n",
    "new3 = pd.DataFrame(new_df[\"working_week_per_year\"] - new_df[\"occupation_code\"], columns = ['wwpy-oc'])\n",
    "df3 = pd.concat([new3,target], axis = 1)\n",
    "corr_matrix = df3.corr()\n",
    "corr_matrix"
   ]
  },
  {
   "cell_type": "code",
   "execution_count": 20,
   "id": "9ebc39ed",
   "metadata": {},
   "outputs": [],
   "source": [
    "new_df = pd.concat([new1,new3,new_df], axis = 1)"
   ]
  },
  {
   "cell_type": "code",
   "execution_count": 21,
   "id": "df1cd071",
   "metadata": {},
   "outputs": [
    {
     "data": {
      "text/html": [
       "<div>\n",
       "<style scoped>\n",
       "    .dataframe tbody tr th:only-of-type {\n",
       "        vertical-align: middle;\n",
       "    }\n",
       "\n",
       "    .dataframe tbody tr th {\n",
       "        vertical-align: top;\n",
       "    }\n",
       "\n",
       "    .dataframe thead th {\n",
       "        text-align: right;\n",
       "    }\n",
       "</style>\n",
       "<table border=\"1\" class=\"dataframe\">\n",
       "  <thead>\n",
       "    <tr style=\"text-align: right;\">\n",
       "      <th></th>\n",
       "      <th>wwpy+te</th>\n",
       "      <th>wwpy-oc</th>\n",
       "      <th>age</th>\n",
       "      <th>gender</th>\n",
       "      <th>education</th>\n",
       "      <th>marital_status</th>\n",
       "      <th>race</th>\n",
       "      <th>is_hispanic</th>\n",
       "      <th>employment_commitment</th>\n",
       "      <th>employment_stat</th>\n",
       "      <th>...</th>\n",
       "      <th>citizenship</th>\n",
       "      <th>mig_year</th>\n",
       "      <th>country_of_birth_own</th>\n",
       "      <th>country_of_birth_father</th>\n",
       "      <th>country_of_birth_mother</th>\n",
       "      <th>migration_code_change_in_msa</th>\n",
       "      <th>migration_code_move_within_reg</th>\n",
       "      <th>migration_code_change_in_reg</th>\n",
       "      <th>importance_of_record</th>\n",
       "      <th>income_above_limit</th>\n",
       "    </tr>\n",
       "  </thead>\n",
       "  <tbody>\n",
       "    <tr>\n",
       "      <th>0</th>\n",
       "      <td>54</td>\n",
       "      <td>52</td>\n",
       "      <td>79</td>\n",
       "      <td>0</td>\n",
       "      <td>High school graduate</td>\n",
       "      <td>Widowed</td>\n",
       "      <td>White</td>\n",
       "      <td>All other</td>\n",
       "      <td>Not in labor force</td>\n",
       "      <td>0</td>\n",
       "      <td>...</td>\n",
       "      <td>Native</td>\n",
       "      <td>95</td>\n",
       "      <td>US</td>\n",
       "      <td>US</td>\n",
       "      <td>US</td>\n",
       "      <td>?</td>\n",
       "      <td>?</td>\n",
       "      <td>?</td>\n",
       "      <td>1779.74</td>\n",
       "      <td>0</td>\n",
       "    </tr>\n",
       "    <tr>\n",
       "      <th>1</th>\n",
       "      <td>0</td>\n",
       "      <td>0</td>\n",
       "      <td>65</td>\n",
       "      <td>0</td>\n",
       "      <td>High school graduate</td>\n",
       "      <td>Widowed</td>\n",
       "      <td>White</td>\n",
       "      <td>All other</td>\n",
       "      <td>Children or Armed Forces</td>\n",
       "      <td>0</td>\n",
       "      <td>...</td>\n",
       "      <td>Native</td>\n",
       "      <td>94</td>\n",
       "      <td>US</td>\n",
       "      <td>US</td>\n",
       "      <td>US</td>\n",
       "      <td>unchanged</td>\n",
       "      <td>unchanged</td>\n",
       "      <td>unchanged</td>\n",
       "      <td>2366.75</td>\n",
       "      <td>0</td>\n",
       "    </tr>\n",
       "    <tr>\n",
       "      <th>2</th>\n",
       "      <td>19</td>\n",
       "      <td>-11</td>\n",
       "      <td>21</td>\n",
       "      <td>1</td>\n",
       "      <td>12th grade no diploma</td>\n",
       "      <td>Never married</td>\n",
       "      <td>Black</td>\n",
       "      <td>All other</td>\n",
       "      <td>Children or Armed Forces</td>\n",
       "      <td>0</td>\n",
       "      <td>...</td>\n",
       "      <td>Native</td>\n",
       "      <td>94</td>\n",
       "      <td>US</td>\n",
       "      <td>US</td>\n",
       "      <td>US</td>\n",
       "      <td>unchanged</td>\n",
       "      <td>unchanged</td>\n",
       "      <td>unchanged</td>\n",
       "      <td>1693.42</td>\n",
       "      <td>0</td>\n",
       "    </tr>\n",
       "    <tr>\n",
       "      <th>3</th>\n",
       "      <td>0</td>\n",
       "      <td>0</td>\n",
       "      <td>2</td>\n",
       "      <td>0</td>\n",
       "      <td>Children</td>\n",
       "      <td>Never married</td>\n",
       "      <td>Asian or Pacific Islander</td>\n",
       "      <td>All other</td>\n",
       "      <td>Children or Armed Forces</td>\n",
       "      <td>0</td>\n",
       "      <td>...</td>\n",
       "      <td>Native</td>\n",
       "      <td>94</td>\n",
       "      <td>US</td>\n",
       "      <td>India</td>\n",
       "      <td>India</td>\n",
       "      <td>unchanged</td>\n",
       "      <td>unchanged</td>\n",
       "      <td>unchanged</td>\n",
       "      <td>1380.27</td>\n",
       "      <td>0</td>\n",
       "    </tr>\n",
       "    <tr>\n",
       "      <th>4</th>\n",
       "      <td>0</td>\n",
       "      <td>0</td>\n",
       "      <td>70</td>\n",
       "      <td>1</td>\n",
       "      <td>High school graduate</td>\n",
       "      <td>Married-civilian spouse present</td>\n",
       "      <td>White</td>\n",
       "      <td>All other</td>\n",
       "      <td>Not in labor force</td>\n",
       "      <td>0</td>\n",
       "      <td>...</td>\n",
       "      <td>Native</td>\n",
       "      <td>95</td>\n",
       "      <td>US</td>\n",
       "      <td>US</td>\n",
       "      <td>US</td>\n",
       "      <td>?</td>\n",
       "      <td>?</td>\n",
       "      <td>?</td>\n",
       "      <td>1580.79</td>\n",
       "      <td>0</td>\n",
       "    </tr>\n",
       "  </tbody>\n",
       "</table>\n",
       "<p>5 rows × 33 columns</p>\n",
       "</div>"
      ],
      "text/plain": [
       "   wwpy+te  wwpy-oc  age  gender               education  \\\n",
       "0       54       52   79       0    High school graduate   \n",
       "1        0        0   65       0    High school graduate   \n",
       "2       19      -11   21       1   12th grade no diploma   \n",
       "3        0        0    2       0                Children   \n",
       "4        0        0   70       1    High school graduate   \n",
       "\n",
       "                     marital_status                        race is_hispanic  \\\n",
       "0                           Widowed                       White   All other   \n",
       "1                           Widowed                       White   All other   \n",
       "2                     Never married                       Black   All other   \n",
       "3                     Never married   Asian or Pacific Islander   All other   \n",
       "4   Married-civilian spouse present                       White   All other   \n",
       "\n",
       "       employment_commitment  employment_stat  ...  citizenship  mig_year  \\\n",
       "0         Not in labor force                0  ...       Native        95   \n",
       "1   Children or Armed Forces                0  ...       Native        94   \n",
       "2   Children or Armed Forces                0  ...       Native        94   \n",
       "3   Children or Armed Forces                0  ...       Native        94   \n",
       "4         Not in labor force                0  ...       Native        95   \n",
       "\n",
       "   country_of_birth_own country_of_birth_father  country_of_birth_mother  \\\n",
       "0                    US                      US                       US   \n",
       "1                    US                      US                       US   \n",
       "2                    US                      US                       US   \n",
       "3                    US                   India                    India   \n",
       "4                    US                      US                       US   \n",
       "\n",
       "   migration_code_change_in_msa migration_code_move_within_reg  \\\n",
       "0                             ?                              ?   \n",
       "1                     unchanged                      unchanged   \n",
       "2                     unchanged                      unchanged   \n",
       "3                     unchanged                      unchanged   \n",
       "4                             ?                              ?   \n",
       "\n",
       "  migration_code_change_in_reg  importance_of_record income_above_limit  \n",
       "0                            ?               1779.74                  0  \n",
       "1                    unchanged               2366.75                  0  \n",
       "2                    unchanged               1693.42                  0  \n",
       "3                    unchanged               1380.27                  0  \n",
       "4                            ?               1580.79                  0  \n",
       "\n",
       "[5 rows x 33 columns]"
      ]
     },
     "execution_count": 21,
     "metadata": {},
     "output_type": "execute_result"
    }
   ],
   "source": [
    "new_df.head()"
   ]
  },
  {
   "cell_type": "markdown",
   "id": "d80475bc",
   "metadata": {},
   "source": [
    "#### FINALSING THE DATA BY CONCATINATING THE FEATURES WHICH ARE OF USE AND THEN WILL WORK UPON THAT DATASET ONLY"
   ]
  },
  {
   "cell_type": "code",
   "execution_count": 22,
   "id": "854f8ad8",
   "metadata": {},
   "outputs": [],
   "source": [
    "c1 = pd.DataFrame(new_df[\"working_week_per_year\"])\n",
    "c2 = pd.DataFrame(new_df[\"gains\"])\n",
    "c3 = pd.DataFrame(new_df[\"total_employed\"])\n",
    "c4 = pd.DataFrame(new_df[\"industry_code\"])\n",
    "c5 = pd.DataFrame(new_df[\"stocks_status\"])\n",
    "c6 = pd.DataFrame(new_df[\"income_above_limit\"])"
   ]
  },
  {
   "cell_type": "code",
   "execution_count": 23,
   "id": "14d8525d",
   "metadata": {},
   "outputs": [],
   "source": [
    "final_data = pd.concat([c1,c2,c3,c4,c5,new1,new3,c6], axis = 1)"
   ]
  },
  {
   "cell_type": "markdown",
   "id": "015d2f57",
   "metadata": {},
   "source": [
    "#### SINCE, THE NUMBER OF 0's AND 1's IS WIDELY DIFFERENT, WE'LL USE UPSAMPLING METHOD FOR GETTING THE COUNT OF 0's AND 1's SOME WAY EQUAL FOR BETTER PREDICTIONS"
   ]
  },
  {
   "cell_type": "code",
   "execution_count": 24,
   "id": "6390e29e",
   "metadata": {
    "scrolled": true
   },
   "outputs": [
    {
     "data": {
      "text/plain": [
       "0    195348\n",
       "1     12092\n",
       "Name: income_above_limit, dtype: int64"
      ]
     },
     "execution_count": 24,
     "metadata": {},
     "output_type": "execute_result"
    }
   ],
   "source": [
    "final_data[\"income_above_limit\"].value_counts()"
   ]
  },
  {
   "cell_type": "code",
   "execution_count": 25,
   "id": "d13cb6bd",
   "metadata": {},
   "outputs": [
    {
     "data": {
      "text/html": [
       "<div>\n",
       "<style scoped>\n",
       "    .dataframe tbody tr th:only-of-type {\n",
       "        vertical-align: middle;\n",
       "    }\n",
       "\n",
       "    .dataframe tbody tr th {\n",
       "        vertical-align: top;\n",
       "    }\n",
       "\n",
       "    .dataframe thead th {\n",
       "        text-align: right;\n",
       "    }\n",
       "</style>\n",
       "<table border=\"1\" class=\"dataframe\">\n",
       "  <thead>\n",
       "    <tr style=\"text-align: right;\">\n",
       "      <th></th>\n",
       "      <th>working_week_per_year</th>\n",
       "      <th>gains</th>\n",
       "      <th>total_employed</th>\n",
       "      <th>industry_code</th>\n",
       "      <th>stocks_status</th>\n",
       "      <th>wwpy+te</th>\n",
       "      <th>wwpy-oc</th>\n",
       "      <th>income_above_limit</th>\n",
       "    </tr>\n",
       "  </thead>\n",
       "  <tbody>\n",
       "    <tr>\n",
       "      <th>0</th>\n",
       "      <td>52</td>\n",
       "      <td>0</td>\n",
       "      <td>2</td>\n",
       "      <td>0</td>\n",
       "      <td>292</td>\n",
       "      <td>54</td>\n",
       "      <td>52</td>\n",
       "      <td>0</td>\n",
       "    </tr>\n",
       "    <tr>\n",
       "      <th>1</th>\n",
       "      <td>0</td>\n",
       "      <td>0</td>\n",
       "      <td>0</td>\n",
       "      <td>0</td>\n",
       "      <td>0</td>\n",
       "      <td>0</td>\n",
       "      <td>0</td>\n",
       "      <td>0</td>\n",
       "    </tr>\n",
       "    <tr>\n",
       "      <th>2</th>\n",
       "      <td>15</td>\n",
       "      <td>0</td>\n",
       "      <td>4</td>\n",
       "      <td>41</td>\n",
       "      <td>0</td>\n",
       "      <td>19</td>\n",
       "      <td>-11</td>\n",
       "      <td>0</td>\n",
       "    </tr>\n",
       "    <tr>\n",
       "      <th>3</th>\n",
       "      <td>0</td>\n",
       "      <td>0</td>\n",
       "      <td>0</td>\n",
       "      <td>0</td>\n",
       "      <td>0</td>\n",
       "      <td>0</td>\n",
       "      <td>0</td>\n",
       "      <td>0</td>\n",
       "    </tr>\n",
       "    <tr>\n",
       "      <th>4</th>\n",
       "      <td>0</td>\n",
       "      <td>0</td>\n",
       "      <td>0</td>\n",
       "      <td>0</td>\n",
       "      <td>0</td>\n",
       "      <td>0</td>\n",
       "      <td>0</td>\n",
       "      <td>0</td>\n",
       "    </tr>\n",
       "  </tbody>\n",
       "</table>\n",
       "</div>"
      ],
      "text/plain": [
       "   working_week_per_year  gains  total_employed  industry_code  stocks_status  \\\n",
       "0                     52      0               2              0            292   \n",
       "1                      0      0               0              0              0   \n",
       "2                     15      0               4             41              0   \n",
       "3                      0      0               0              0              0   \n",
       "4                      0      0               0              0              0   \n",
       "\n",
       "   wwpy+te  wwpy-oc  income_above_limit  \n",
       "0       54       52                   0  \n",
       "1        0        0                   0  \n",
       "2       19      -11                   0  \n",
       "3        0        0                   0  \n",
       "4        0        0                   0  "
      ]
     },
     "execution_count": 25,
     "metadata": {},
     "output_type": "execute_result"
    }
   ],
   "source": [
    "final_data.head()"
   ]
  },
  {
   "cell_type": "code",
   "execution_count": 26,
   "id": "87237306",
   "metadata": {},
   "outputs": [],
   "source": [
    "from sklearn.utils import resample\n",
    "#create two different dataframe of majority and minority class \n",
    "df_majority = final_data[(final_data['income_above_limit']==0)] \n",
    "df_minority = final_data[(final_data['income_above_limit']==1)] \n",
    "# upsample minority class\n",
    "df_minority_upsampled = resample(df_minority, \n",
    "                                 replace=True,    # sample with replacement\n",
    "                                 n_samples= 195348, # to match majority class\n",
    "                                 random_state=42)  # reproducible results\n",
    "\n",
    "# Combine majority class with upsampled minority class\n",
    "final_df = pd.concat([df_minority_upsampled, df_majority])"
   ]
  },
  {
   "cell_type": "code",
   "execution_count": 27,
   "id": "a72e064b",
   "metadata": {},
   "outputs": [
    {
     "data": {
      "text/plain": [
       "1    195348\n",
       "0    195348\n",
       "Name: income_above_limit, dtype: int64"
      ]
     },
     "execution_count": 27,
     "metadata": {},
     "output_type": "execute_result"
    }
   ],
   "source": [
    "final_df[\"income_above_limit\"].value_counts()"
   ]
  },
  {
   "cell_type": "markdown",
   "id": "906b3b42",
   "metadata": {},
   "source": [
    "#### AGAIN, CHECKING THE CORRELATION OF THE FINAL DATASET AND IT IS SHOWING WONDERFUL RESULT"
   ]
  },
  {
   "cell_type": "code",
   "execution_count": 28,
   "id": "730c0afd",
   "metadata": {},
   "outputs": [
    {
     "data": {
      "text/plain": [
       "income_above_limit       1.000000\n",
       "wwpy-oc                  0.628719\n",
       "wwpy+te                  0.595970\n",
       "working_week_per_year    0.593020\n",
       "total_employed           0.460990\n",
       "industry_code            0.416189\n",
       "stocks_status            0.225644\n",
       "gains                    0.184617\n",
       "Name: income_above_limit, dtype: float64"
      ]
     },
     "execution_count": 28,
     "metadata": {},
     "output_type": "execute_result"
    }
   ],
   "source": [
    "corr_matrix = final_df.corr()\n",
    "corr_matrix[\"income_above_limit\"].sort_values(ascending = False)"
   ]
  },
  {
   "cell_type": "markdown",
   "id": "fd541daf",
   "metadata": {},
   "source": [
    "# TRAIN-TEST DATA SPLITTING"
   ]
  },
  {
   "cell_type": "code",
   "execution_count": 29,
   "id": "e5658f8f",
   "metadata": {},
   "outputs": [],
   "source": [
    "x = final_df.drop([\"income_above_limit\"], axis = 1)"
   ]
  },
  {
   "cell_type": "code",
   "execution_count": 30,
   "id": "87e6e78c",
   "metadata": {},
   "outputs": [],
   "source": [
    "y = final_df[\"income_above_limit\"]"
   ]
  },
  {
   "cell_type": "code",
   "execution_count": 31,
   "id": "e7ae0439",
   "metadata": {},
   "outputs": [],
   "source": [
    "x_train, x_test, y_train, y_test = train_test_split(x,y,test_size = 0.20, random_state = 62)"
   ]
  },
  {
   "cell_type": "markdown",
   "id": "50ce267a",
   "metadata": {},
   "source": [
    "###### SELECTING BEST MODEL "
   ]
  },
  {
   "cell_type": "code",
   "execution_count": 32,
   "id": "cfb99a05",
   "metadata": {},
   "outputs": [],
   "source": [
    "rfc = RandomForestClassifier()\n",
    "rfc.fit(x_train,y_train)\n",
    "y_predictions = rfc.predict(x_test)\n",
    "\n",
    "predictions = pd.DataFrame({'y_test':y_test,\n",
    "                           'y_predictions':y_predictions})"
   ]
  },
  {
   "cell_type": "markdown",
   "id": "d942af18",
   "metadata": {},
   "source": [
    "#### FINDING THE MEAN SQUARED ERROR AND ROOT MEAN SQUARED ERROR OF THE Y_TEST (ORIGINAL) AND Y_PREDICTIONS (PREDICTED BY RANDOM FOREST CLASSIFIER)"
   ]
  },
  {
   "cell_type": "code",
   "execution_count": 33,
   "id": "4aad603a",
   "metadata": {},
   "outputs": [
    {
     "name": "stdout",
     "output_type": "stream",
     "text": [
      "MEAN SQUARED ERROR = 0.098285129255183 and ROOT MEAN SQUARED ERROR = 0.3135045920798976\n"
     ]
    }
   ],
   "source": [
    "mse = mean_squared_error(y_test,y_predictions)\n",
    "rmse = np.sqrt(mse)\n",
    "\n",
    "print(f\"MEAN SQUARED ERROR = {mse} and ROOT MEAN SQUARED ERROR = {rmse}\")"
   ]
  },
  {
   "cell_type": "markdown",
   "id": "db6dc2c4",
   "metadata": {},
   "source": [
    "#### CROSS - VALIDATING THE DATA "
   ]
  },
  {
   "cell_type": "code",
   "execution_count": 34,
   "id": "6ac234b8",
   "metadata": {},
   "outputs": [],
   "source": [
    "from sklearn.model_selection import cross_val_score\n",
    "scores = cross_val_score(rfc,x_train,y_train,scoring = \"neg_mean_squared_error\",cv = 10)\n",
    "rmse_scores = np.sqrt(-scores)"
   ]
  },
  {
   "cell_type": "code",
   "execution_count": 35,
   "id": "1eae76aa",
   "metadata": {},
   "outputs": [
    {
     "name": "stdout",
     "output_type": "stream",
     "text": [
      "Scores : [-0.09783722 -0.09594958 -0.09594958 -0.09828513 -0.09566163 -0.0963335\n",
      " -0.09268917 -0.09665653 -0.09816029 -0.09579267]\n",
      "Mean : -0.09633153090181792\n",
      "Standard Deviation : 0.001543740311427975\n"
     ]
    }
   ],
   "source": [
    "def print_scores(scores):\n",
    "    print(\"Scores :\",scores)\n",
    "    print(\"Mean :\",scores.mean())\n",
    "    print(\"Standard Deviation :\",scores.std())\n",
    "print_scores(scores)"
   ]
  },
  {
   "cell_type": "markdown",
   "id": "cf37c580",
   "metadata": {},
   "source": [
    "#### GETTING THE CLASSIFICATION REPORT FOR MAKING SOME JUDGEMENT ABOUT THE EFFICIENCY AND EFFECTIVENESS OF THE MODEL\n"
   ]
  },
  {
   "cell_type": "code",
   "execution_count": 36,
   "id": "ffe5c02b",
   "metadata": {},
   "outputs": [
    {
     "name": "stdout",
     "output_type": "stream",
     "text": [
      "Confusion matrix : \n",
      " [[36329  2723]\n",
      " [ 4957 34131]]\n",
      "\n",
      "Classification report : \n",
      "               precision    recall  f1-score   support\n",
      "\n",
      "           1       0.88      0.93      0.90     39052\n",
      "           0       0.93      0.87      0.90     39088\n",
      "\n",
      "    accuracy                           0.90     78140\n",
      "   macro avg       0.90      0.90      0.90     78140\n",
      "weighted avg       0.90      0.90      0.90     78140\n",
      "\n"
     ]
    }
   ],
   "source": [
    "from sklearn.metrics import confusion_matrix\n",
    "matrix = confusion_matrix(y_test,y_predictions, labels=[1,0])\n",
    "print('Confusion matrix : \\n',matrix)\n",
    "print()\n",
    "# classification report for precision, recall f1-score and accuracy\n",
    "from sklearn.metrics import classification_report\n",
    "matrix = classification_report(y_test,y_predictions,labels=[1,0])\n",
    "print('Classification report : \\n',matrix)"
   ]
  },
  {
   "cell_type": "markdown",
   "id": "bce65c9f",
   "metadata": {},
   "source": [
    "#### SAVING THE MODEL FOR FURTHER USAGE"
   ]
  },
  {
   "cell_type": "code",
   "execution_count": 37,
   "id": "e5ed7f48",
   "metadata": {},
   "outputs": [
    {
     "data": {
      "text/plain": [
       "['Dragon.joblib']"
      ]
     },
     "execution_count": 37,
     "metadata": {},
     "output_type": "execute_result"
    }
   ],
   "source": [
    "from joblib import dump,load\n",
    "dump(rfc, 'Dragon.joblib')"
   ]
  },
  {
   "cell_type": "code",
   "execution_count": 38,
   "id": "63442ee9",
   "metadata": {},
   "outputs": [],
   "source": [
    "from joblib import dump, load\n",
    "import numpy as np\n",
    "rfc = load('Dragon.joblib')"
   ]
  },
  {
   "cell_type": "markdown",
   "id": "a1a1d651",
   "metadata": {},
   "source": [
    "#### GIVING THE INPUT FEATURE FOR TESTING THE MODEL"
   ]
  },
  {
   "cell_type": "code",
   "execution_count": 39,
   "id": "b2e54d4b",
   "metadata": {},
   "outputs": [],
   "source": [
    "feature = np.array([[0,0,0,0,0,0,0]])"
   ]
  },
  {
   "cell_type": "code",
   "execution_count": 40,
   "id": "b2335ecf",
   "metadata": {},
   "outputs": [
    {
     "name": "stderr",
     "output_type": "stream",
     "text": [
      "D:\\anaconda\\lib\\site-packages\\sklearn\\base.py:420: UserWarning: X does not have valid feature names, but RandomForestClassifier was fitted with feature names\n",
      "  warnings.warn(\n"
     ]
    },
    {
     "data": {
      "text/plain": [
       "array([0], dtype=int64)"
      ]
     },
     "execution_count": 40,
     "metadata": {},
     "output_type": "execute_result"
    }
   ],
   "source": [
    "rfc.predict(feature)"
   ]
  },
  {
   "cell_type": "markdown",
   "id": "3c821c30",
   "metadata": {},
   "source": [
    "## SINCE, THE FINAL DATA IS CONTAINING 7 FEATURES AND THE 8TH ONE IS OUTPUT COLUMN\n",
    "## SO, FOR GETTING THE PREDICTIONS, WE NEED TO ENTER 7 INPUT FEATURES WHICH ARE AS FOLLOWS:\n",
    "#### working_week_per_year\n",
    "#### gains\n",
    "#### total_employed\n",
    "#### industry_code\n",
    "#### stocks_status\n",
    "#### wwpy+te ----> (working_week_per_year + total_employed)\n",
    "#### wwpy-oc ----> (working_week_per_year - occupational code)"
   ]
  },
  {
   "cell_type": "code",
   "execution_count": 41,
   "id": "a08a040f",
   "metadata": {},
   "outputs": [
    {
     "data": {
      "text/plain": [
       "['working_week_per_year',\n",
       " 'gains',\n",
       " 'total_employed',\n",
       " 'industry_code',\n",
       " 'stocks_status',\n",
       " 'wwpy+te',\n",
       " 'wwpy-oc',\n",
       " 'income_above_limit']"
      ]
     },
     "execution_count": 41,
     "metadata": {},
     "output_type": "execute_result"
    }
   ],
   "source": [
    "features_df = ['working_week_per_year', 'gains', 'total_employed', 'industry_code','stocks_status', 'wwpy+te', 'wwpy-oc', 'income_above_limit']\n",
    "features_df"
   ]
  }
 ],
 "metadata": {
  "kernelspec": {
   "display_name": "Python 3 (ipykernel)",
   "language": "python",
   "name": "python3"
  },
  "language_info": {
   "codemirror_mode": {
    "name": "ipython",
    "version": 3
   },
   "file_extension": ".py",
   "mimetype": "text/x-python",
   "name": "python",
   "nbconvert_exporter": "python",
   "pygments_lexer": "ipython3",
   "version": "3.10.9"
  }
 },
 "nbformat": 4,
 "nbformat_minor": 5
}
